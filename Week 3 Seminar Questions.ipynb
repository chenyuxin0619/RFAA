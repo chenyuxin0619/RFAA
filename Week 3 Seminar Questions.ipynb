{
 "cells": [
  {
   "cell_type": "markdown",
   "id": "b060c08e",
   "metadata": {},
   "source": [
    "## Week 3 Seminar Questions"
   ]
  },
  {
   "cell_type": "markdown",
   "id": "7772da80",
   "metadata": {},
   "source": [
    "### 1.Data Retrieval and Analysis:\n",
    "Retrieve the historical data for the S&P 500 and VIX indices (from October 1, 2022, to October 1, 2023) using yfinance.\n",
    "\n",
    "Produce two visualizations: one showcasing each index separately and another featuring both on a single plot, utilizing subplots for visualization.\n",
    "\n",
    "Compute the log returns of both and determine their correlation coefficient.\n",
    "\n",
    "Generate visuals containing histograms and scatter plots of both using the scatter_matrix from pandas.\n",
    "\n",
    "Employ numpy’s polyfit to linearly fit the two.\n",
    "\n",
    "Bonus: Compute the correlation over a fixed window of 20 trading days.\n",
    "\n",
    "### 2.Option Pricing Comparison:\n",
    "Assume a risk-free rate of 4.5%.\n",
    "\n",
    "Utilize the closing price of the S&P 500 on October 2, 2023, as the underlying asset price.\n",
    "\n",
    "Calculate the price of a call option with a strike price of $4300, expiring in one month (November 1, 2023), using the annualized volatility derived from log returns between October 1, 2022, and October 1, 2023.\n",
    "\n",
    "Retrieve and compare the actual market price of the option using yfinance.\n",
    "\n",
    "Discuss potential reasons for the pricing discrepancy."
   ]
  },
  {
   "cell_type": "code",
   "execution_count": null,
   "id": "a4b11542",
   "metadata": {},
   "outputs": [],
   "source": []
  },
  {
   "cell_type": "code",
   "execution_count": null,
   "id": "3c8c219a",
   "metadata": {},
   "outputs": [],
   "source": []
  },
  {
   "cell_type": "code",
   "execution_count": null,
   "id": "329d488c",
   "metadata": {},
   "outputs": [],
   "source": []
  }
 ],
 "metadata": {
  "kernelspec": {
   "display_name": "Python 3 (ipykernel)",
   "language": "python",
   "name": "python3"
  },
  "language_info": {
   "codemirror_mode": {
    "name": "ipython",
    "version": 3
   },
   "file_extension": ".py",
   "mimetype": "text/x-python",
   "name": "python",
   "nbconvert_exporter": "python",
   "pygments_lexer": "ipython3",
   "version": "3.11.5"
  }
 },
 "nbformat": 4,
 "nbformat_minor": 5
}
